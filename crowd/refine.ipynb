{
 "cells": [
  {
   "cell_type": "code",
   "execution_count": 1,
   "metadata": {},
   "outputs": [],
   "source": [
    "import json\n",
    "import pandas as pd\n",
    "import datetime\n",
    "from tqdm import tqdm\n",
    "from requests import get\n",
    "import time\n",
    "from pprint import pprint\n",
    "\n",
    "format = \"%Y-%m-%dT%H:%M:%S.000Z\"\n",
    "origin = datetime.datetime.strptime('2020-11-09T05:00:00.000Z', format)\n",
    "\n",
    "file=\"covid-19-vaccination-stance-3249.csv\"\n",
    "given = {str(int(i[\"id\"])): int(i[\"category\"]) for i in pd.read_csv(file).T.to_dict().values()}\n",
    "\n",
    "with open(\"twitter_keys.json\") as f:\n",
    "    header = {\"Authorization\": f\"Bearer {json.load(f)['Bearer Token']}\"}\n",
    "# def ret_tweet(id):\n",
    "#     return get(f\"https://api.twitter.com/2/tweets/{id}?tweet.fields=created_at%2Cid%2Ctext%2Centities\",\n",
    "#                headers=header\n",
    "#                ).json()"
   ]
  },
  {
   "cell_type": "code",
   "execution_count": null,
   "metadata": {},
   "outputs": [],
   "source": [
    "a, b = get_row(1325774333504073728)\n",
    "pprint(b)\n",
    "print(\"\\n\\n\")\n",
    "pprint(a)"
   ]
  },
  {
   "cell_type": "code",
   "execution_count": 2,
   "metadata": {},
   "outputs": [],
   "source": [
    "def get_row(id):\n",
    "    if type(id)!=str:\n",
    "        id = str(int(id))\n",
    "    res = get(f\"https://api.twitter.com/2/tweets/{id}?tweet.fields=created_at%2Cid%2Ctext%2Centities\", headers=header).json()\n",
    "    # time.sleep(0.5)\n",
    "    if \"errors\" in res: return None\n",
    "    elif \"data\" in res:\n",
    "        res = res[\"data\"]\n",
    "        try: hashtags = [i[\"tag\"] for i in res[\"entities\"][\"hashtags\"]]\n",
    "        except KeyError: hashtags = []\n",
    "        return [{\"date\": round((datetime.datetime.strptime(res[\"created_at\"], format)-origin).total_seconds()/(2.6*10**6), 6),\n",
    "                 \"text\": res[\"text\"],\n",
    "                 \"entities\": res[\"entities\"] if \"entities\" in res else {},\n",
    "                 \"y\": given[id],\n",
    "                },\n",
    "                {\"date\": round((datetime.datetime.strptime(res[\"created_at\"], format)-origin).total_seconds()/(2.6*10**6), 6),\n",
    "                 \"text\": res[\"text\"],\n",
    "                 \"entities\": hashtags,\n",
    "                 \"y\": given[id],\n",
    "                }\n",
    "            ]\n",
    "    elif \"title\" in res and res[\"title\"] == 'Too Many Requests':\n",
    "        wait = 10\n",
    "        till = datetime.datetime.now()+datetime.timedelta(minutes=wait)\n",
    "        print(f\"Too Many Requests, waiting {wait} minutes till {till.hour%12}:{till.minute}:{till.second}... \")\n",
    "        time.sleep(60*wait)\n",
    "        return get_row(id)\n",
    "    else:\n",
    "        return {\"spl\": res}"
   ]
  },
  {
   "cell_type": "code",
   "execution_count": 3,
   "metadata": {},
   "outputs": [
    {
     "name": "stderr",
     "output_type": "stream",
     "text": [
      " 27%|██▋       | 861/3249 [06:58<19:24,  2.05it/s]"
     ]
    },
    {
     "name": "stdout",
     "output_type": "stream",
     "text": [
      "Too Many Requests, waiting 4 minutes till 9:21:55... \n",
      "Too Many Requests, waiting 4 minutes till 9:25:56... \n",
      "Too Many Requests, waiting 4 minutes till 9:29:56... \n"
     ]
    },
    {
     "name": "stderr",
     "output_type": "stream",
     "text": [
      " 42%|████▏     | 1362/3249 [23:03<14:39,  2.15it/s]    "
     ]
    },
    {
     "name": "stdout",
     "output_type": "stream",
     "text": [
      "Too Many Requests, waiting 4 minutes till 9:38:0... \n",
      "Too Many Requests, waiting 4 minutes till 9:42:0... \n"
     ]
    },
    {
     "name": "stderr",
     "output_type": "stream",
     "text": [
      " 42%|████▏     | 1363/3249 [31:04<75:48:51, 144.71s/it]"
     ]
    },
    {
     "name": "stdout",
     "output_type": "stream",
     "text": [
      "Too Many Requests, waiting 4 minutes till 9:46:1... \n"
     ]
    },
    {
     "name": "stderr",
     "output_type": "stream",
     "text": [
      " 58%|█████▊    | 1890/3249 [38:59<10:42,  2.11it/s]    "
     ]
    },
    {
     "name": "stdout",
     "output_type": "stream",
     "text": [
      "Too Many Requests, waiting 4 minutes till 9:53:56... \n"
     ]
    },
    {
     "name": "stderr",
     "output_type": "stream",
     "text": [
      " 58%|█████▊    | 1892/3249 [43:00<19:12:16, 50.95s/it]"
     ]
    },
    {
     "name": "stdout",
     "output_type": "stream",
     "text": [
      "Too Many Requests, waiting 4 minutes till 9:57:57... \n",
      "Too Many Requests, waiting 4 minutes till 10:1:58... \n"
     ]
    },
    {
     "name": "stderr",
     "output_type": "stream",
     "text": [
      " 73%|███████▎  | 2384/3249 [54:53<06:38,  2.17it/s]    "
     ]
    },
    {
     "name": "stdout",
     "output_type": "stream",
     "text": [
      "Too Many Requests, waiting 4 minutes till 10:9:50... \n"
     ]
    },
    {
     "name": "stderr",
     "output_type": "stream",
     "text": [
      " 73%|███████▎  | 2387/3249 [58:55<8:34:09, 35.79s/it] "
     ]
    },
    {
     "name": "stdout",
     "output_type": "stream",
     "text": [
      "Too Many Requests, waiting 4 minutes till 10:13:52... \n"
     ]
    },
    {
     "name": "stderr",
     "output_type": "stream",
     "text": [
      " 73%|███████▎  | 2388/3249 [1:02:56<23:16:49, 97.34s/it]"
     ]
    },
    {
     "name": "stdout",
     "output_type": "stream",
     "text": [
      "Too Many Requests, waiting 4 minutes till 10:17:53... \n"
     ]
    },
    {
     "name": "stderr",
     "output_type": "stream",
     "text": [
      " 88%|████████▊ | 2875/3249 [1:10:45<02:50,  2.19it/s]    "
     ]
    },
    {
     "name": "stdout",
     "output_type": "stream",
     "text": [
      "Too Many Requests, waiting 4 minutes till 10:25:42... \n",
      "Too Many Requests, waiting 4 minutes till 10:29:42... \n"
     ]
    },
    {
     "name": "stderr",
     "output_type": "stream",
     "text": [
      " 89%|████████▊ | 2876/3249 [1:18:46<14:59:45, 144.73s/it]"
     ]
    },
    {
     "name": "stdout",
     "output_type": "stream",
     "text": [
      "Too Many Requests, waiting 4 minutes till 10:33:43... \n"
     ]
    },
    {
     "name": "stderr",
     "output_type": "stream",
     "text": [
      "100%|██████████| 3249/3249 [2:07:06<00:00,  2.35s/it]    \n"
     ]
    }
   ],
   "source": [
    "data = {}\n",
    "dataE = {}\n",
    "notFound = []\n",
    "specialCase = {}\n",
    "i=0\n",
    "for x in tqdm(given.keys()):\n",
    "    i+=1\n",
    "    ID = str(int(x))\n",
    "    res = get_row(ID)\n",
    "    if res:\n",
    "        if \"spl\" in res:\n",
    "            specialCase[ID] = res\n",
    "        else:\n",
    "            dataE[ID], data[ID] = res\n",
    "    else:\n",
    "        notFound.append(ID)"
   ]
  },
  {
   "cell_type": "code",
   "execution_count": 4,
   "metadata": {},
   "outputs": [],
   "source": [
    "with open(\"dataH.json\", \"w\") as f:\n",
    "    json.dump(data, f)\n",
    "with open(\"dataHE.json\", \"w\") as f:\n",
    "    json.dump(dataE, f)"
   ]
  },
  {
   "cell_type": "code",
   "execution_count": null,
   "metadata": {},
   "outputs": [],
   "source": [
    "print(len(data))"
   ]
  },
  {
   "cell_type": "code",
   "execution_count": null,
   "metadata": {},
   "outputs": [],
   "source": [
    "dataE"
   ]
  }
 ],
 "metadata": {
  "kernelspec": {
   "display_name": "Python 3.9.13 64-bit (windows store)",
   "language": "python",
   "name": "python3"
  },
  "language_info": {
   "codemirror_mode": {
    "name": "ipython",
    "version": 3
   },
   "file_extension": ".py",
   "mimetype": "text/x-python",
   "name": "python",
   "nbconvert_exporter": "python",
   "pygments_lexer": "ipython3",
   "version": "3.9.13"
  },
  "orig_nbformat": 4,
  "vscode": {
   "interpreter": {
    "hash": "95b59b4b0e72d3e94105c3ab4f1a1e6e746e4c2a7c235241251baf92fb36381f"
   }
  }
 },
 "nbformat": 4,
 "nbformat_minor": 2
}
