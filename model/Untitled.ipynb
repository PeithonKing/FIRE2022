{
 "cells": [
  {
   "cell_type": "code",
   "execution_count": 1,
   "id": "93b97cc5",
   "metadata": {},
   "outputs": [],
   "source": [
    "import transformers\n",
    "from transformers import pipeline\n",
    "from transformers import AutoModelForSequenceClassification\n",
    "from transformers import TFAutoModelForSequenceClassification\n",
    "from transformers import AutoTokenizer, AutoConfig\n",
    "import pandas as pd\n",
    "import numpy as np\n",
    "from tqdm.auto import tqdm"
   ]
  },
  {
   "cell_type": "code",
   "execution_count": 2,
   "id": "eed7a5b3",
   "metadata": {},
   "outputs": [],
   "source": [
    "model_path = \"cardiffnlp/twitter-xlm-roberta-base-sentiment\"\n",
    "model = pipeline(\"sentiment-analysis\",\n",
    "                          model=model_path,\n",
    "                          tokenizer=model_path)"
   ]
  },
  {
   "cell_type": "code",
   "execution_count": 3,
   "id": "e35136ea",
   "metadata": {},
   "outputs": [],
   "source": [
    "tokenizer = model.tokenizer"
   ]
  },
  {
   "cell_type": "code",
   "execution_count": 4,
   "id": "d76a146e",
   "metadata": {},
   "outputs": [],
   "source": [
    "data = pd.read_csv(\"./vax_train.csv\")"
   ]
  },
  {
   "cell_type": "code",
   "execution_count": 5,
   "id": "4d50ed19",
   "metadata": {},
   "outputs": [],
   "source": [
    "tweet = data.iloc[:,1]\n",
    "label = data.iloc[:,2]"
   ]
  },
  {
   "cell_type": "code",
   "execution_count": 6,
   "id": "41f1217d",
   "metadata": {},
   "outputs": [
    {
     "name": "stderr",
     "output_type": "stream",
     "text": [
      "<ipython-input-6-310b1430fe5a>:1: SettingWithCopyWarning: \n",
      "A value is trying to be set on a copy of a slice from a DataFrame\n",
      "\n",
      "See the caveats in the documentation: https://pandas.pydata.org/pandas-docs/stable/user_guide/indexing.html#returning-a-view-versus-a-copy\n",
      "  label[label == \"AntiVax\"] = 0\n",
      "<ipython-input-6-310b1430fe5a>:2: SettingWithCopyWarning: \n",
      "A value is trying to be set on a copy of a slice from a DataFrame\n",
      "\n",
      "See the caveats in the documentation: https://pandas.pydata.org/pandas-docs/stable/user_guide/indexing.html#returning-a-view-versus-a-copy\n",
      "  label[label == \"Neutral\"] = 1\n",
      "<ipython-input-6-310b1430fe5a>:3: SettingWithCopyWarning: \n",
      "A value is trying to be set on a copy of a slice from a DataFrame\n",
      "\n",
      "See the caveats in the documentation: https://pandas.pydata.org/pandas-docs/stable/user_guide/indexing.html#returning-a-view-versus-a-copy\n",
      "  label[label == \"ProVax\"] = 2\n"
     ]
    }
   ],
   "source": [
    "label[label == \"AntiVax\"] = 0\n",
    "label[label == \"Neutral\"] = 1\n",
    "label[label == \"ProVax\"] = 2\n",
    "label = np.reshape(np.array(label, dtype= np.uint8), (label.shape[0],1))"
   ]
  },
  {
   "cell_type": "code",
   "execution_count": 10,
   "id": "702a7bd6",
   "metadata": {},
   "outputs": [],
   "source": [
    "tweet = np.array(tweet)\n",
    "tweet = tweet.tolist()"
   ]
  },
  {
   "cell_type": "code",
   "execution_count": 11,
   "id": "e75e6f4e",
   "metadata": {},
   "outputs": [
    {
     "data": {
      "application/vnd.jupyter.widget-view+json": {
       "model_id": "1fa1f99ced974613a1c4a12e279aa35a",
       "version_major": 2,
       "version_minor": 0
      },
      "text/plain": [
       "  0%|          | 0/4392 [00:00<?, ?it/s]"
      ]
     },
     "metadata": {},
     "output_type": "display_data"
    }
   ],
   "source": [
    "output = []\n",
    "for tw in tqdm(tweet):\n",
    "    \n",
    "    output.append(model(tw))"
   ]
  },
  {
   "cell_type": "code",
   "execution_count": null,
   "id": "54336b19",
   "metadata": {},
   "outputs": [],
   "source": [
    "tw"
   ]
  },
  {
   "cell_type": "code",
   "execution_count": 12,
   "id": "780520f4",
   "metadata": {},
   "outputs": [
    {
     "data": {
      "text/plain": [
       "4392"
      ]
     },
     "execution_count": 12,
     "metadata": {},
     "output_type": "execute_result"
    }
   ],
   "source": [
    "len(output)"
   ]
  },
  {
   "cell_type": "code",
   "execution_count": 20,
   "id": "632f4347",
   "metadata": {},
   "outputs": [
    {
     "data": {
      "text/plain": [
       "'Positive'"
      ]
     },
     "execution_count": 20,
     "metadata": {},
     "output_type": "execute_result"
    }
   ],
   "source": [
    "output[1][0][\"label\"]"
   ]
  },
  {
   "cell_type": "code",
   "execution_count": 21,
   "id": "590aa533",
   "metadata": {},
   "outputs": [],
   "source": [
    "copt = []\n",
    "for i in range(len(output)):\n",
    "    copt.append(output[i][0][\"label\"]) "
   ]
  },
  {
   "cell_type": "code",
   "execution_count": 22,
   "id": "524d1ca9",
   "metadata": {},
   "outputs": [],
   "source": [
    "copt = np.array(copt)\n",
    "copt[copt == \"Negative\"] = 0\n",
    "copt[copt == \"Neutral\"] = 1\n",
    "copt[copt == \"Positive\"] = 2"
   ]
  },
  {
   "cell_type": "code",
   "execution_count": 23,
   "id": "17f18a0e",
   "metadata": {},
   "outputs": [
    {
     "data": {
      "text/plain": [
       "4392"
      ]
     },
     "execution_count": 23,
     "metadata": {},
     "output_type": "execute_result"
    }
   ],
   "source": [
    "copt.shape[0]"
   ]
  },
  {
   "cell_type": "code",
   "execution_count": 24,
   "id": "0da49a26",
   "metadata": {},
   "outputs": [],
   "source": [
    "copt = copt.reshape(copt.shape[0],1)"
   ]
  },
  {
   "cell_type": "code",
   "execution_count": null,
   "id": "55176414",
   "metadata": {},
   "outputs": [],
   "source": [
    "copt"
   ]
  },
  {
   "cell_type": "code",
   "execution_count": null,
   "id": "1d64bd15",
   "metadata": {},
   "outputs": [],
   "source": [
    "label"
   ]
  },
  {
   "cell_type": "code",
   "execution_count": null,
   "id": "eb2289ea",
   "metadata": {},
   "outputs": [],
   "source": [
    "c = 0\n",
    "for i in range(copt.shape[0]):\n",
    "    if str(label[i,0]) == copt[i,0]:\n",
    "        c = c+1"
   ]
  },
  {
   "cell_type": "code",
   "execution_count": null,
   "id": "f6900f45",
   "metadata": {},
   "outputs": [],
   "source": [
    "label[1,0]\n"
   ]
  },
  {
   "cell_type": "code",
   "execution_count": null,
   "id": "7b27362d",
   "metadata": {},
   "outputs": [],
   "source": [
    "c"
   ]
  },
  {
   "cell_type": "code",
   "execution_count": null,
   "id": "3ff9d567",
   "metadata": {},
   "outputs": [],
   "source": [
    "c/(i+1)"
   ]
  },
  {
   "cell_type": "code",
   "execution_count": null,
   "id": "31cb2a76",
   "metadata": {},
   "outputs": [],
   "source": [
    "tweet"
   ]
  },
  {
   "cell_type": "code",
   "execution_count": null,
   "id": "930588ba",
   "metadata": {},
   "outputs": [],
   "source": [
    "model(tweet[6])"
   ]
  },
  {
   "cell_type": "code",
   "execution_count": null,
   "id": "c09c2ecb",
   "metadata": {},
   "outputs": [],
   "source": [
    "copt[6,0]"
   ]
  },
  {
   "cell_type": "code",
   "execution_count": null,
   "id": "6c9393c1",
   "metadata": {},
   "outputs": [],
   "source": [
    "label[6,0]"
   ]
  },
  {
   "cell_type": "code",
   "execution_count": null,
   "id": "f5ea82de",
   "metadata": {},
   "outputs": [],
   "source": [
    "tweet[6]"
   ]
  },
  {
   "cell_type": "code",
   "execution_count": 46,
   "id": "2361a006",
   "metadata": {},
   "outputs": [],
   "source": [
    "df = pd.DataFrame()\n",
    "df = df.assign(tweet = tweet)\n",
    "df = df.assign(label = label[:,0].tolist() )\n",
    "df = df.assign(pred = copt[:,0].tolist())"
   ]
  },
  {
   "cell_type": "code",
   "execution_count": 48,
   "id": "77ad725d",
   "metadata": {},
   "outputs": [],
   "source": [
    "df.to_csv(\"output.csv\")"
   ]
  },
  {
   "cell_type": "code",
   "execution_count": 49,
   "id": "f78d87d3",
   "metadata": {},
   "outputs": [
    {
     "data": {
      "text/plain": [
       "[{'label': 'Negative', 'score': 0.9276172518730164}]"
      ]
     },
     "execution_count": 49,
     "metadata": {},
     "output_type": "execute_result"
    }
   ],
   "source": [
    "model(\"Once they get a corona vaccine I donâ€™t want to see any of you antivaxxers getting one. Donâ€™t be a hypocrite.\"\n",
    ")"
   ]
  }
 ],
 "metadata": {
  "kernelspec": {
   "display_name": "Python 3",
   "language": "python",
   "name": "python3"
  },
  "language_info": {
   "codemirror_mode": {
    "name": "ipython",
    "version": 3
   },
   "file_extension": ".py",
   "mimetype": "text/x-python",
   "name": "python",
   "nbconvert_exporter": "python",
   "pygments_lexer": "ipython3",
   "version": "3.8.8"
  }
 },
 "nbformat": 4,
 "nbformat_minor": 5
}
