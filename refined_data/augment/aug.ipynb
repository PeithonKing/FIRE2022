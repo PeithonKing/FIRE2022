{
 "cells": [
  {
   "cell_type": "code",
   "execution_count": 5,
   "metadata": {},
   "outputs": [],
   "source": [
    "from tqdm import tqdm\n",
    "import pandas as pd\n",
    "from eda import *\n",
    "# from sklearn.model_selection import train_test_split\n",
    "\n",
    "def get_synonyms(word):\n",
    "    synonyms = set()\n",
    "    for syn in wordnet.synsets(word): \n",
    "        for l in syn.lemmas(): \n",
    "            synonym = l.name().replace(\"_\", \" \").replace(\"-\", \" \").lower()\n",
    "            synonym = \"\".join([char for char in synonym if char in ' qwertyuiopasdfghjklzxcvbnm'])\n",
    "            synonyms.add(synonym) \n",
    "    if word in synonyms:\n",
    "        synonyms.remove(word)\n",
    "    return list(synonyms)\n",
    "\n",
    "def gen_eda(data,\n",
    "            alpha_sr=0.1,\n",
    "            alpha_ri=0.1,\n",
    "            alpha_rs=0.1,\n",
    "            alpha_rd=0.1,\n",
    "            num_aug=9,\n",
    "    ):\n",
    "\n",
    "    out = {\"tweet\":[], \"label\":[]}\n",
    "\n",
    "    for i in tqdm(range(len(data))):\n",
    "        label = data[\"label\"][i]\n",
    "        aug_sentences = eda(\n",
    "            data[\"tweet\"][i], \n",
    "            alpha_sr = alpha_sr, \n",
    "            alpha_ri = alpha_ri, \n",
    "            alpha_rs = alpha_rs, \n",
    "            p_rd = alpha_rd, \n",
    "            num_aug = num_aug\n",
    "            )\n",
    "        out[\"tweet\"].extend(aug_sentences)\n",
    "        out[\"label\"].extend([label]*(num_aug+1))\n",
    "\n",
    "    return pd.DataFrame(out).sample(frac=1)\n",
    "\n",
    "file = \"../clean/original.csv\""
   ]
  },
  {
   "cell_type": "code",
   "execution_count": 2,
   "metadata": {
    "scrolled": false
   },
   "outputs": [],
   "source": [
    "t = \"A Quantum robot is an excellent future application that can be achieved with the help of a quantum computer. As a practical example, quantum-controlled Braitenberg vehicles is a mobile quantum system and hence acts as a quantum robot. Braitenberg vehicles are simple circuit robots which can experience natural behaviours like fear, aggression and love. These robots can be controlled by quantum circuits incorporating quantum principles such as entanglement and superposition. Complex behaviours can be mimicked by a quantum circuit that can be implemented in a quantum robot. Here we investigate the scheme of Raghuvanshi et al.\\ and propose a new quantum circuit to make the quantum robot fly. We demonstrate one of its applications in playing a game. The quantum robot we present here shows the behaviour of 'fear', and its movement is deterministic in nature. This phenomenon can be successfully modelled in a game, where it can always avoid accidents. The proposed quantum circuit is designed in IBM quantum experience describing the above protocol.\"\n",
    "t = t.split(\". \")"
   ]
  },
  {
   "cell_type": "code",
   "execution_count": null,
   "metadata": {},
   "outputs": [],
   "source": [
    "new_t = []\n",
    "for sentence in t:\n",
    "    aug_sentences = eda(\n",
    "            data[\"tweet\"][i], \n",
    "            alpha_sr = alpha_sr, \n",
    "            alpha_ri = alpha_ri, \n",
    "            alpha_rs = alpha_rs, \n",
    "            p_rd = alpha_rd, \n",
    "            num_aug = 1\n",
    "            )"
   ]
  },
  {
   "cell_type": "code",
   "execution_count": 14,
   "metadata": {},
   "outputs": [],
   "source": [
    "def get_changed(string):\n",
    "    print(\".\", end=\"\")\n",
    "    red = [\n",
    "         'automaton',\n",
    "         'golem',\n",
    "         'calculator',\n",
    "         'reckoner',\n",
    "         'figurer',\n",
    "#          'computing device',\n",
    "         'electronic computer',\n",
    "#          'information processing system',\n",
    "#          'computing machine',\n",
    "         'data processor',\n",
    "         'estimator'\n",
    "    ]\n",
    "    a = eda(\n",
    "        string, \n",
    "        alpha_sr = 0.3, \n",
    "        alpha_ri = 0, \n",
    "        alpha_rs = 0, \n",
    "        p_rd = 0, \n",
    "        num_aug = 1\n",
    "        )[1]\n",
    "    if sum([word in a for word in red]):\n",
    "        return get_changed(string)\n",
    "    else:\n",
    "        print(\"\")\n",
    "        return a"
   ]
  },
  {
   "cell_type": "code",
   "execution_count": 15,
   "metadata": {},
   "outputs": [
    {
     "name": "stdout",
     "output_type": "stream",
     "text": [
      ".....................\n"
     ]
    },
    {
     "data": {
      "text/plain": [
       "'a quantum robot is an splendid succeeding coating that can be achieved with the facilitate of a quantum computing device'"
      ]
     },
     "execution_count": 15,
     "metadata": {},
     "output_type": "execute_result"
    }
   ],
   "source": [
    "get_changed(t[0])"
   ]
  },
  {
   "cell_type": "code",
   "execution_count": 16,
   "metadata": {},
   "outputs": [
    {
     "data": {
      "text/plain": [
       "['applications programme',\n",
       " 'diligence',\n",
       " 'covering',\n",
       " 'practical application',\n",
       " 'lotion',\n",
       " 'coating',\n",
       " 'application program']"
      ]
     },
     "execution_count": 16,
     "metadata": {},
     "output_type": "execute_result"
    }
   ],
   "source": [
    "get_synonyms(\"application\")"
   ]
  },
  {
   "cell_type": "code",
   "execution_count": null,
   "metadata": {},
   "outputs": [],
   "source": [
    "train, test = train_test_split(pd.read_csv(file), test_size=0.2)"
   ]
  },
  {
   "cell_type": "code",
   "execution_count": null,
   "metadata": {},
   "outputs": [],
   "source": [
    "train = gen_eda(train.reset_index(drop=True))\n",
    "train.to_csv(\"aug_train_original.csv\", index=False)\n",
    "test.to_csv(\"test_original.csv\", index=False)"
   ]
  }
 ],
 "metadata": {
  "kernelspec": {
   "display_name": "Python 3 (ipykernel)",
   "language": "python",
   "name": "python3"
  },
  "language_info": {
   "codemirror_mode": {
    "name": "ipython",
    "version": 3
   },
   "file_extension": ".py",
   "mimetype": "text/x-python",
   "name": "python",
   "nbconvert_exporter": "python",
   "pygments_lexer": "ipython3",
   "version": "3.9.13"
  },
  "vscode": {
   "interpreter": {
    "hash": "95b59b4b0e72d3e94105c3ab4f1a1e6e746e4c2a7c235241251baf92fb36381f"
   }
  }
 },
 "nbformat": 4,
 "nbformat_minor": 2
}
