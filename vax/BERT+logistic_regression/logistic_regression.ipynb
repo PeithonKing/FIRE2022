{
 "cells": [
  {
   "cell_type": "code",
   "execution_count": 189,
   "metadata": {},
   "outputs": [],
   "source": [
    "import numpy as np\n",
    "import pandas as pd\n",
    "import matplotlib.pyplot as plt\n",
    "from tqdm import tqdm\n",
    "import sklearn.metrics as ev"
   ]
  },
  {
   "cell_type": "code",
   "execution_count": 2,
   "metadata": {},
   "outputs": [
    {
     "data": {
      "text/plain": [
       "['200', 'X_test.csv', 'X_train.csv', 'y_test.csv', 'y_train.csv']"
      ]
     },
     "execution_count": 2,
     "metadata": {},
     "output_type": "execute_result"
    }
   ],
   "source": [
    "import os\n",
    "os.listdir('../data/BERT')"
   ]
  },
  {
   "cell_type": "code",
   "execution_count": 143,
   "metadata": {},
   "outputs": [
    {
     "name": "stdout",
     "output_type": "stream",
     "text": [
      "shape of X = (3673, 769)\n",
      "shape of Y = (3673, 1)\n",
      "shape of theta = (769, 1)\n"
     ]
    }
   ],
   "source": [
    "X = pd.read_csv(\"../data/BERT/X_train.csv\").to_numpy()\n",
    "print(f\"shape of X = {X.shape}\")\n",
    "Y = pd.read_csv(\"../data/BERT/Y_train.csv\")[\"AntiVax\"].to_numpy().reshape(X.shape[0],1)\n",
    "print(f\"shape of Y = {Y.shape}\")\n",
    "theta = np.random.rand(X.shape[1], 1)\n",
    "print(f\"shape of theta = {theta.shape}\")"
   ]
  },
  {
   "cell_type": "code",
   "execution_count": 88,
   "metadata": {},
   "outputs": [],
   "source": [
    "X = np.array([[1,  2.2874e+00,    8.9081e-01],\n",
    "   [1,  2.4717e+00,   -6.8611e-01],\n",
    "   [1,  3.8360e-01,   -1.6322e+00],\n",
    "   [1, -2.0572e+00,   -1.0777e+00],\n",
    "   [1, -2.6066e+00,    4.6768e-01],\n",
    "   [1, -7.5953e-01,    1.5831e+00],\n",
    "   [1,  1.7859e+00,    1.2430e+00],\n",
    "   [1,  2.6894e+00,   -2.3989e-01],\n",
    "   [1,  1.1203e+00,   -1.5022e+00],\n",
    "   [1, -1.4788e+00,   -1.3834e+00],\n",
    "   [1, -2.7183e+00,    7.2967e-03],\n",
    "   [1, -1.4586e+00,    1.3913e+00],\n",
    "   [1,  1.1421e+00,    1.4961e+00],\n",
    "   [1,  2.6927e+00,    2.2544e-01],\n",
    "   [1,  1.7677e+00,   -1.2525e+00],\n",
    "   [1, -7.8260e-01,   -1.5789e+00],\n",
    "   [1, -2.6133e+00,   -4.5367e-01],\n",
    "   [1, -2.0414e+00,    1.0887e+00],\n",
    "   [1,  4.0741e-01,    1.6301e+00],\n",
    "   [1,  2.4816e+00,    6.7281e-01]])\n",
    "\n",
    "Y = np.array([[0], \n",
    "              [0], \n",
    "              [1], \n",
    "              [0], \n",
    "              [0], \n",
    "              [1], \n",
    "              [1], \n",
    "              [0], \n",
    "              [1], \n",
    "              [0], \n",
    "              [0], \n",
    "              [0], \n",
    "              [1], \n",
    "              [0], \n",
    "              [1], \n",
    "              [1], \n",
    "              [0], \n",
    "              [0], \n",
    "              [1], \n",
    "              [0]])\n",
    "\n",
    "theta = np.array([[0.25],\n",
    "                  [0.50],\n",
    "                  [-0.50]])"
   ]
  },
  {
   "cell_type": "code",
   "execution_count": 59,
   "metadata": {},
   "outputs": [],
   "source": [
    "def g(x):\n",
    "    # if np.any(1 + np.exp(-x)) ==0:\n",
    "    #     print(x)\n",
    "    return 1 / (1 + np.exp(-x))\n",
    "\n",
    "def h(x, theta):\n",
    "    return g(x@theta)\n",
    "\n",
    "def J(theta, X, Y):\n",
    "    return np.mean((Y - 1) * np.log(1 - h(X, theta)) - Y * np.log(h(X, theta)))"
   ]
  },
  {
   "cell_type": "code",
   "execution_count": 138,
   "metadata": {},
   "outputs": [
    {
     "data": {
      "text/plain": [
       "(3673, 1)"
      ]
     },
     "execution_count": 138,
     "metadata": {},
     "output_type": "execute_result"
    }
   ],
   "source": [
    "(h(X, theta) - Y).shape"
   ]
  },
  {
   "cell_type": "code",
   "execution_count": 137,
   "metadata": {},
   "outputs": [
    {
     "data": {
      "text/plain": [
       "(769, 3673)"
      ]
     },
     "execution_count": 137,
     "metadata": {},
     "output_type": "execute_result"
    }
   ],
   "source": [
    "X.T.shape"
   ]
  },
  {
   "cell_type": "code",
   "execution_count": 136,
   "metadata": {},
   "outputs": [
    {
     "data": {
      "text/plain": [
       "(769, 1)"
      ]
     },
     "execution_count": 136,
     "metadata": {},
     "output_type": "execute_result"
    }
   ],
   "source": [
    "(X.T @ (h(X, theta) - Y)).shape"
   ]
  },
  {
   "cell_type": "code",
   "execution_count": 201,
   "metadata": {},
   "outputs": [
    {
     "name": "stderr",
     "output_type": "stream",
     "text": [
      "100%|██████████| 36/36 [00:00<00:00, 158.57it/s]\n"
     ]
    },
    {
     "data": {
      "text/plain": [
       "0.6110502591332734"
      ]
     },
     "execution_count": 201,
     "metadata": {},
     "output_type": "execute_result"
    },
    {
     "data": {
      "image/png": "[encoded data removed]",
      "text/plain": [
       "<Figure size 432x288 with 1 Axes>"
      ]
     },
     "metadata": {
      "needs_background": "light"
     },
     "output_type": "display_data"
    }
   ],
   "source": [
    "X = pd.read_csv(\"../data/BERT/X_train.csv\").to_numpy()\n",
    "# print(f\"shape of X = {X.shape}\")\n",
    "Y = pd.read_csv(\"../data/BERT/Y_train.csv\")[\"AntiVax\"].to_numpy().reshape(X.shape[0],1)\n",
    "# print(f\"shape of Y = {Y.shape}\")\n",
    "theta = np.random.rand(X.shape[1], 1)\n",
    "# print(f\"shape of theta = {theta.shape}\")\n",
    "\n",
    "# Do Gradient Descent and get optimum theta\n",
    "Js = []\n",
    "alpha = 0.01/len(X)\n",
    "for i in tqdm(range(int(0.0001/alpha))):\n",
    "    Js.append(J(theta, X, Y))\n",
    "    slope = (X.T @ (h(X, theta) - Y))\n",
    "    theta = theta - alpha * slope\n",
    "plt.plot(np.arange(0, len(Js)), Js)\n",
    "Js[-1]"
   ]
  },
  {
   "cell_type": "code",
   "execution_count": 135,
   "metadata": {},
   "outputs": [
    {
     "data": {
      "text/plain": [
       "(769, 1)"
      ]
     },
     "execution_count": 135,
     "metadata": {},
     "output_type": "execute_result"
    }
   ],
   "source": [
    "theta.shape"
   ]
  },
  {
   "cell_type": "code",
   "execution_count": 162,
   "metadata": {},
   "outputs": [
    {
     "data": {
      "text/plain": [
       "(200,)"
      ]
     },
     "execution_count": 162,
     "metadata": {},
     "output_type": "execute_result"
    }
   ],
   "source": [
    "(np.arange(-10, 10, 0.1)).shape"
   ]
  },
  {
   "cell_type": "code",
   "execution_count": 167,
   "metadata": {},
   "outputs": [
    {
     "data": {
      "text/plain": [
       "[<matplotlib.lines.Line2D at 0x218b8e552b0>]"
      ]
     },
     "execution_count": 167,
     "metadata": {},
     "output_type": "execute_result"
    },
    {
     "data": {
      "image/png": "[encoded data removed]",
      "text/plain": [
       "<Figure size 432x288 with 1 Axes>"
      ]
     },
     "metadata": {
      "needs_background": "light"
     },
     "output_type": "display_data"
    }
   ],
   "source": [
    "x = np.arange(-10, 10, 0.1).reshape(200, 1)\n",
    "f = h(x, np.array([8]))\n",
    "plt.plot(x, f)"
   ]
  },
  {
   "cell_type": "code",
   "execution_count": 171,
   "metadata": {},
   "outputs": [
    {
     "data": {
      "text/plain": [
       "(769, 1)"
      ]
     },
     "execution_count": 171,
     "metadata": {},
     "output_type": "execute_result"
    }
   ],
   "source": [
    "theta.shape"
   ]
  },
  {
   "cell_type": "code",
   "execution_count": 188,
   "metadata": {},
   "outputs": [
    {
     "name": "stdout",
     "output_type": "stream",
     "text": [
      "shape of X_test = (919, 769)\n",
      "shape of Y_test = (919, 1)\n"
     ]
    }
   ],
   "source": [
    "X_test = pd.read_csv(\"../data/BERT/X_test.csv\").to_numpy()\n",
    "print(f\"shape of X_test = {X_test.shape}\")\n",
    "Y_test = pd.read_csv(\"../data/BERT/Y_test.csv\")[\"AntiVax\"].to_numpy().reshape(X_test.shape[0],1)\n",
    "print(f\"shape of Y_test = {Y_test.shape}\")"
   ]
  },
  {
   "cell_type": "code",
   "execution_count": 202,
   "metadata": {},
   "outputs": [],
   "source": [
    "def predict(threshold = 0.5):\n",
    "    return (h(X_test, theta) > threshold).astype(int)"
   ]
  },
  {
   "cell_type": "code",
   "execution_count": 203,
   "metadata": {},
   "outputs": [
    {
     "data": {
      "text/plain": [
       "[<matplotlib.lines.Line2D at 0x218bc32b580>]"
      ]
     },
     "execution_count": 203,
     "metadata": {},
     "output_type": "execute_result"
    },
    {
     "data": {
      "image/png": "[encoded data removed]",
      "text/plain": [
       "<Figure size 432x288 with 1 Axes>"
      ]
     },
     "metadata": {
      "needs_background": "light"
     },
     "output_type": "display_data"
    }
   ],
   "source": [
    "x_p = np.linspace(0.1, 0.9, 100)\n",
    "s = []\n",
    "for i in x_p:\n",
    "    s.append(ev.f1_score(Y_test, predict(i)))\n",
    "\n",
    "plt.plot(x_p, s)"
   ]
  },
  {
   "cell_type": "code",
   "execution_count": 187,
   "metadata": {},
   "outputs": [
    {
     "data": {
      "text/plain": [
       "(919, 1)"
      ]
     },
     "execution_count": 187,
     "metadata": {},
     "output_type": "execute_result"
    }
   ],
   "source": [
    "predict(0.5).shape"
   ]
  }
 ],
 "metadata": {
  "kernelspec": {
   "display_name": "Python 3.9.13 64-bit (windows store)",
   "language": "python",
   "name": "python3"
  },
  "language_info": {
   "codemirror_mode": {
    "name": "ipython",
    "version": 3
   },
   "file_extension": ".py",
   "mimetype": "text/x-python",
   "name": "python",
   "nbconvert_exporter": "python",
   "pygments_lexer": "ipython3",
   "version": "3.9.13"
  },
  "orig_nbformat": 4,
  "vscode": {
   "interpreter": {
    "hash": "95b59b4b0e72d3e94105c3ab4f1a1e6e746e4c2a7c235241251baf92fb36381f"
   }
  }
 },
 "nbformat": 4,
 "nbformat_minor": 2
}
