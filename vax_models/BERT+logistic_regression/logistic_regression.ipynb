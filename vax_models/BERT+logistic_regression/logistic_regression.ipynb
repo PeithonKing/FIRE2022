{
 "cells": [
  {
   "cell_type": "code",
   "execution_count": 1,
   "metadata": {},
   "outputs": [],
   "source": [
    "import numpy as np\n",
    "import pandas as pd\n",
    "import matplotlib.pyplot as plt\n",
    "from tqdm import tqdm\n",
    "import sklearn.metrics as ev\n",
    "import os\n",
    "\n",
    "imp = [\"AntiVax\", \"Neutral\", \"ProVax\"][0]"
   ]
  },
  {
   "cell_type": "code",
   "execution_count": 19,
   "metadata": {},
   "outputs": [
    {
     "name": "stdout",
     "output_type": "stream",
     "text": [
      "shape of X = (3673, 769)\n",
      "shape of Y = (3673, 1)\n",
      "Could not find theta file, so starting with random theta.\n",
      "shape of theta = (769, 1)\n"
     ]
    }
   ],
   "source": [
    "X = pd.read_csv(\"../data/BERT/X_train.csv\").to_numpy()\n",
    "print(f\"shape of X = {X.shape}\")\n",
    "\n",
    "Y = pd.read_csv(\"../data/BERT/Y_train.csv\")[imp].to_numpy().reshape(X.shape[0],1)\n",
    "print(f\"shape of Y = {Y.shape}\")\n",
    "\n",
    "if os.path.exists(f\"results/theta_{imp}.npy\"):\n",
    "    print(f\"Loading theta_{imp}\")\n",
    "    theta = np.load(f\"results/theta_{imp}.npy\")\n",
    "else:\n",
    "    print(\"Could not find theta file, so starting with random theta.\")\n",
    "    theta = np.random.rand(X.shape[1], 1)\n",
    "print(f\"shape of theta = {theta.shape}\")"
   ]
  },
  {
   "cell_type": "code",
   "execution_count": 3,
   "metadata": {},
   "outputs": [],
   "source": [
    "def g(x):\n",
    "    return 1 / (1 + np.exp(-x))\n",
    "\n",
    "def h(x, theta):\n",
    "    return g(x@theta)\n",
    "\n",
    "def J(theta, X, Y):\n",
    "    return np.mean((Y - 1) * np.log(1 - h(X, theta)) - Y * np.log(h(X, theta)))\n",
    "\n",
    "def predict(threshold = 0.5):\n",
    "    return (h(X_test, theta) > threshold).astype(int)"
   ]
  },
  {
   "cell_type": "code",
   "execution_count": 4,
   "metadata": {},
   "outputs": [
    {
     "name": "stderr",
     "output_type": "stream",
     "text": [
      "100%|██████████| 20000/20000 [02:02<00:00, 163.37it/s]\n"
     ]
    },
    {
     "data": {
      "text/plain": [
       "0.4622744033424136"
      ]
     },
     "execution_count": 4,
     "metadata": {},
     "output_type": "execute_result"
    },
    {
     "data": {
      "image/png": "[encoded data removed]",
      "text/plain": [
       "<Figure size 432x288 with 1 Axes>"
      ]
     },
     "metadata": {
      "needs_background": "light"
     },
     "output_type": "display_data"
    }
   ],
   "source": [
    "# X = pd.read_csv(\"../data/BERT/X_train.csv\").to_numpy()\n",
    "# # print(f\"shape of X = {X.shape}\")\n",
    "# Y = pd.read_csv(\"../data/BERT/Y_train.csv\")[\"ProVax\"].to_numpy().reshape(X.shape[0],1)\n",
    "# # print(f\"shape of Y = {Y.shape}\")\n",
    "# theta = np.random.rand(X.shape[1], 1)\n",
    "# # print(f\"shape of theta = {theta.shape}\")\n",
    "\n",
    "# # Do Gradient Descent and get optimum theta\n",
    "Js = {}\n",
    "alpha = 0.01/len(X)\n",
    "for i in tqdm(range(2*10**4)):\n",
    "    Js[i] = J(theta, X, Y)\n",
    "    slope = (X.T @ (h(X, theta) - Y))\n",
    "    theta = theta - alpha * slope\n",
    "plt.plot(Js.keys(), Js.values())\n",
    "Js[list(Js.keys())[-1]]"
   ]
  },
  {
   "cell_type": "code",
   "execution_count": 18,
   "metadata": {},
   "outputs": [
    {
     "data": {
      "text/plain": [
       "[<matplotlib.lines.Line2D at 0x1f8d4caadf0>]"
      ]
     },
     "execution_count": 18,
     "metadata": {},
     "output_type": "execute_result"
    },
    {
     "data": {
      "image/png": "[encoded data removed]",
      "text/plain": [
       "<Figure size 432x288 with 1 Axes>"
      ]
     },
     "metadata": {
      "needs_background": "light"
     },
     "output_type": "display_data"
    }
   ],
   "source": [
    "plt.plot(list(Js.keys())[2500:], list(Js.values())[2500:])"
   ]
  },
  {
   "cell_type": "code",
   "execution_count": 5,
   "metadata": {},
   "outputs": [
    {
     "name": "stdout",
     "output_type": "stream",
     "text": [
      "shape of X_test = (919, 769)\n",
      "shape of Y_test = (919, 1)\n"
     ]
    }
   ],
   "source": [
    "# Load Test Data\n",
    "X_test = pd.read_csv(\"../data/BERT/X_test.csv\").to_numpy()\n",
    "print(f\"shape of X_test = {X_test.shape}\")\n",
    "Y_test = pd.read_csv(\"../data/BERT/Y_test.csv\")[imp].to_numpy().reshape(X_test.shape[0],1)\n",
    "print(f\"shape of Y_test = {Y_test.shape}\")"
   ]
  },
  {
   "cell_type": "code",
   "execution_count": 6,
   "metadata": {},
   "outputs": [
    {
     "data": {
      "text/plain": [
       "Text(0.5, 1.0, 'ROC Curve for AntiVax')"
      ]
     },
     "execution_count": 6,
     "metadata": {},
     "output_type": "execute_result"
    },
    {
     "data": {
      "image/png": "[encoded data removed]",
      "text/plain": [
       "<Figure size 432x288 with 1 Axes>"
      ]
     },
     "metadata": {
      "needs_background": "light"
     },
     "output_type": "display_data"
    }
   ],
   "source": [
    "roc = ev.roc_curve(Y_test, h(X_test, theta), pos_label=1)\n",
    "plt.plot(roc[0], roc[1])\n",
    "plt.title(f\"ROC Curve for {imp}\")"
   ]
  },
  {
   "cell_type": "code",
   "execution_count": 7,
   "metadata": {},
   "outputs": [],
   "source": [
    "# plt.plot(roc[0], roc[1])\n",
    "# plt.title(f\"ROC Curve for {imp}\")\n",
    "# plt.savefig(\"trial.png\")"
   ]
  },
  {
   "cell_type": "code",
   "execution_count": 8,
   "metadata": {},
   "outputs": [],
   "source": [
    "np.save(f\"theta_{imp}.npy\", theta)"
   ]
  },
  {
   "cell_type": "code",
   "execution_count": 9,
   "metadata": {},
   "outputs": [
    {
     "ename": "FileNotFoundError",
     "evalue": "[Errno 2] No such file or directory: 'theta_Neutral.npy'",
     "output_type": "error",
     "traceback": [
      "\u001b[1;31m---------------------------------------------------------------------------\u001b[0m",
      "\u001b[1;31mFileNotFoundError\u001b[0m                         Traceback (most recent call last)",
      "\u001b[1;32mc:\\Users\\amukh\\Desktop\\FIRE\\vax\\BERT+logistic_regression\\logistic_regression.ipynb Cell 9'\u001b[0m in \u001b[0;36m<module>\u001b[1;34m\u001b[0m\n\u001b[1;32m----> <a href='vscode-notebook-cell:/c%3A/Users/amukh/Desktop/FIRE/vax/BERT%2Blogistic_regression/logistic_regression.ipynb#ch0000008?line=0'>1</a>\u001b[0m loa \u001b[39m=\u001b[39m np\u001b[39m.\u001b[39;49mload(\u001b[39m\"\u001b[39;49m\u001b[39mtheta_Neutral.npy\u001b[39;49m\u001b[39m\"\u001b[39;49m)\n",
      "File \u001b[1;32m~\\AppData\\Local\\Packages\\PythonSoftwareFoundation.Python.3.9_qbz5n2kfra8p0\\LocalCache\\local-packages\\Python39\\site-packages\\numpy\\lib\\npyio.py:407\u001b[0m, in \u001b[0;36mload\u001b[1;34m(file, mmap_mode, allow_pickle, fix_imports, encoding)\u001b[0m\n\u001b[0;32m    405\u001b[0m     own_fid \u001b[39m=\u001b[39m \u001b[39mFalse\u001b[39;00m\n\u001b[0;32m    406\u001b[0m \u001b[39melse\u001b[39;00m:\n\u001b[1;32m--> 407\u001b[0m     fid \u001b[39m=\u001b[39m stack\u001b[39m.\u001b[39menter_context(\u001b[39mopen\u001b[39;49m(os_fspath(file), \u001b[39m\"\u001b[39;49m\u001b[39mrb\u001b[39;49m\u001b[39m\"\u001b[39;49m))\n\u001b[0;32m    408\u001b[0m     own_fid \u001b[39m=\u001b[39m \u001b[39mTrue\u001b[39;00m\n\u001b[0;32m    410\u001b[0m \u001b[39m# Code to distinguish from NumPy binary files and pickles.\u001b[39;00m\n",
      "\u001b[1;31mFileNotFoundError\u001b[0m: [Errno 2] No such file or directory: 'theta_Neutral.npy'"
     ]
    }
   ],
   "source": [
    "loa = np.load(\"theta_Neutral.npy\")"
   ]
  }
 ],
 "metadata": {
  "kernelspec": {
   "display_name": "Python 3 (ipykernel)",
   "language": "python",
   "name": "python3"
  },
  "language_info": {
   "codemirror_mode": {
    "name": "ipython",
    "version": 3
   },
   "file_extension": ".py",
   "mimetype": "text/x-python",
   "name": "python",
   "nbconvert_exporter": "python",
   "pygments_lexer": "ipython3",
   "version": "3.9.13"
  },
  "vscode": {
   "interpreter": {
    "hash": "95b59b4b0e72d3e94105c3ab4f1a1e6e746e4c2a7c235241251baf92fb36381f"
   }
  }
 },
 "nbformat": 4,
 "nbformat_minor": 2
}
